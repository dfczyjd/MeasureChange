{
 "cells": [
  {
   "cell_type": "code",
   "execution_count": 1,
   "metadata": {},
   "outputs": [],
   "source": [
    "import series\n",
    "from os import scandir\n",
    "from tqdm import tqdm\n",
    "import matplotlib.pyplot as plt\n",
    "import datetime\n",
    "from matplotlib.dates import date2num\n",
    "from matplotlib.colors import ListedColormap\n",
    "from sys import stdout\n",
    "import yaml\n",
    "import sqlite3\n",
    "import util"
   ]
  },
  {
   "cell_type": "code",
   "execution_count": null,
   "metadata": {},
   "outputs": [],
   "source": [
    "conn = sqlite3.connect('diff_v2.sqlite3')\n",
    "cur = conn.cursor()\n",
    "\n",
    "cur.execute('SELECT DISTINCT Device, ObjectType, ObjectId, Property FROM PropertyValues')\n",
    "features = cur.fetchall()\n",
    "\n",
    "conn.close()"
   ]
  },
  {
   "cell_type": "code",
   "execution_count": 2,
   "metadata": {},
   "outputs": [],
   "source": [
    "mappings = dict()\n",
    "for file in scandir('../mappings'):\n",
    "    if not file.name.endswith('.yaml'):\n",
    "        continue\n",
    "    with open(file, 'r') as fin:\n",
    "        obj = yaml.safe_load(fin)\n",
    "        mappings.update(util.update_names(obj))"
   ]
  },
  {
   "cell_type": "code",
   "execution_count": null,
   "metadata": {},
   "outputs": [],
   "source": [
    "features_by_type = dict()\n",
    "for elem in features:\n",
    "    _, obj, _, prop = elem\n",
    "    pres_flag = prop == 'presentValue'\n",
    "    if prop in mappings[obj]:\n",
    "        typ = mappings[obj][prop]['Type']\n",
    "        if type(typ) == dict and typ['Name'] in ['list', 'array', 'object', 'object ref']:\n",
    "            typ = typ['Name']\n",
    "        elif typ not in ['number', 'bool', 'datetime', 'other']:\n",
    "            print('Found type', mappings[obj][prop]['Type'])\n",
    "            continue\n",
    "        if pres_flag:\n",
    "            typ = typ + '_pres'\n",
    "        if typ not in features_by_type:\n",
    "            features_by_type[typ] = []\n",
    "        features_by_type[typ].append(elem)"
   ]
  },
  {
   "cell_type": "code",
   "execution_count": 20,
   "metadata": {},
   "outputs": [],
   "source": [
    "def expand_series(timestamps, values):\n",
    "    global start_date, end_date, date_range\n",
    "    res = []\n",
    "    timestamps = list(map(lambda t: datetime.datetime.strptime(t, TIME_FORMAT), timestamps))\n",
    "    if timestamps[0] != start_date:\n",
    "        timestamps = [start_date] + timestamps\n",
    "        values = ['noFaultDetected'] + values\n",
    "    for i in range(len(timestamps)):\n",
    "        if timestamps[i].minute != 0:\n",
    "            timestamps.pop(i)\n",
    "            values.pop(i)\n",
    "            break\n",
    "    intervals = list(zip(timestamps, timestamps[1:] + [end_date]))\n",
    "    \n",
    "    for i, (int_start, int_end) in enumerate(intervals):\n",
    "        # Align timestamp with 2-hour grid\n",
    "        int_start = int_start.replace(second=0, microsecond=0)\n",
    "        int_end = int_end.replace(second=0, microsecond=0)\n",
    "        \n",
    "        delta = int((int_end - int_start).total_seconds() / 3600)\n",
    "        res += [values[i]] * delta\n",
    "    \n",
    "    return res"
   ]
  },
  {
   "cell_type": "code",
   "execution_count": null,
   "metadata": {
    "scrolled": false
   },
   "outputs": [],
   "source": [
    "conn = sqlite3.connect('diff_v2.sqlite3')\n",
    "cur = conn.cursor()\n",
    "\n",
    "bool_diagram = []\n",
    "labels = []\n",
    "time_ticks = set()\n",
    "\n",
    "test_keys = [\n",
    "    #('119503', 'device', 119503, 'daylightSavingsStatus')\n",
    "    #('110201', 'device', 110201, 'activeCovSubscriptions'),\n",
    "    #('116502', 'device', 116502, 'activeCovSubscriptions'),\n",
    "    #('110209', 'device', 110209, 'activeCovSubscriptions')\n",
    "]\n",
    "\n",
    "for key in features_by_type['bool'][6:7]:\n",
    "    if key in test_keys:\n",
    "        continue\n",
    "    res = series.fetch_series(key, cur)\n",
    "    \n",
    "    times, values = zip(*res)\n",
    "    values = util.convert_bool(values)\n",
    "    \n",
    "    time_labels = []\n",
    "    for elem in times:\n",
    "        time = datetime.datetime.strptime(elem, TIME_FORMAT).replace(second=0, microsecond=0)\n",
    "        start = start_date.replace(second=0, microsecond=0)\n",
    "        tick = int((time - start).total_seconds() / 7200)\n",
    "        time_labels.append((datetime.datetime.strftime(time, \"%Y-%m-%d %Hh\"), tick))\n",
    "    time_ticks.update(time_labels)\n",
    "    \n",
    "    labels.append(f'{key[0]}:{key[1]}:{key[2]}:{key[3]}')\n",
    "    exp = expand_series(times, values)\n",
    "    bool_diagram.append(exp)\n",
    "\n",
    "conn.close()"
   ]
  },
  {
   "cell_type": "code",
   "execution_count": 10,
   "metadata": {},
   "outputs": [
    {
     "name": "stderr",
     "output_type": "stream",
     "text": [
      "100%|████████████████████████████████████████████████████████████████████████████████████| 8/8 [01:07<00:00,  8.46s/it]\n"
     ]
    }
   ],
   "source": [
    "conn = sqlite3.connect('diff_v2.sqlite3')\n",
    "cur = conn.cursor()\n",
    "\n",
    "#items = [('binaryValue', 263), ('binaryValue', 264), ('binaryValue', 265), ('binaryValue', 266), ('binaryValue', 267)]#[('analogInput', 13), ('analogOutput', 6), ('multiStateOutput', 13), ('analogValue', 74)]\n",
    "items = [(110629,), (110631,), (111502,), (111601,), (111602,), (111603,), (111604,), (111605,)]\n",
    "data = []\n",
    "for i in tqdm(range(len(items))):\n",
    "    cur.execute('''SELECT Timestamp, Value FROM FullValues\n",
    "                WHERE Device == ?\n",
    "                AND ObjectType == 'device'\n",
    "                --AND ObjectId == ?\n",
    "                AND Property == 'daylightSavingsStatus'\n",
    "                AND Timestamp BETWEEN '2024-10-22 00:00' AND '2024-11-01 00:00'\n",
    "                ''', items[i])\n",
    "    data.append(cur.fetchall())\n",
    "\n",
    "conn.close()"
   ]
  },
  {
   "cell_type": "code",
   "execution_count": 11,
   "metadata": {},
   "outputs": [
    {
     "data": {
      "text/plain": [
       "[[('2024-10-26 16:00:02.028439', 'False')],\n",
       " [('2024-10-27 03:00:01.826692', 'False')],\n",
       " [('2024-10-27 04:00:01.731295', 'False')],\n",
       " [('2024-10-27 23:00:02.093356', 'False')],\n",
       " [('2024-10-27 03:00:01.826692', 'False')],\n",
       " [('2024-10-27 03:00:01.826692', 'False')],\n",
       " [('2024-10-27 03:00:01.826692', 'False')],\n",
       " [('2024-10-27 21:00:00.681833', 'False')]]"
      ]
     },
     "execution_count": 11,
     "metadata": {},
     "output_type": "execute_result"
    }
   ],
   "source": [
    "data"
   ]
  },
  {
   "cell_type": "code",
   "execution_count": 22,
   "metadata": {},
   "outputs": [
    {
     "name": "stdout",
     "output_type": "stream",
     "text": [
      "240 240\n",
      "240 240\n",
      "240 240\n",
      "240 240\n",
      "240 240\n",
      "240 240\n",
      "240 240\n",
      "240 240\n"
     ]
    }
   ],
   "source": [
    "def shorten_time(str_time):\n",
    "    dt_time = datetime.datetime.strptime(str_time, TIME_FORMAT)\n",
    "    short_time = datetime.datetime.strftime(dt_time, TIME_FORMAT_SHORT)\n",
    "    \n",
    "    return short_time\n",
    "\n",
    "TIME_FORMAT = \"%Y-%m-%d %H:%M:%S.%f\"\n",
    "TIME_FORMAT_SHORT = \"%Y-%m-%d %Hh\"\n",
    "start_date = datetime.datetime.strptime(\"2024-10-22 00:00:00.0\", TIME_FORMAT)\n",
    "end_date = datetime.datetime.strptime(\"2024-11-01 00:00:00.0\", TIME_FORMAT)\n",
    "date_range = [start_date + datetime.timedelta(hours=x)\n",
    "                  for x in range(0, int((end_date - start_date).total_seconds() / 3600), 1)]\n",
    "diagram = []\n",
    "labels = []\n",
    "for i in range(len(items)):\n",
    "    times, values = zip(*data[i])\n",
    "    print(len(expand_series(list(times), list(values))), len(date_range))\n",
    "    diagram.append(util.enumerate_series(expand_series(list(times), list(values)), [False] * len(date_range)))\n",
    "\n",
    "    #labels.append(f'Aggregator #5 {items[i][0]} #{items[i][1]}')\n",
    "    labels.append(f'{items[i][0]}')\n",
    "dt_cnt = len(date_range)\n",
    "ticks_time = range(0, dt_cnt, dt_cnt // 10)#list(map(lambda x: datetime.datetime.strptime(x, TIME_FORMAT), times))\n",
    "labels_time = list(map(lambda x: datetime.datetime.strftime(x, TIME_FORMAT_SHORT), date_range[::dt_cnt // 10]))"
   ]
  },
  {
   "cell_type": "code",
   "execution_count": 17,
   "metadata": {},
   "outputs": [
    {
     "name": "stdout",
     "output_type": "stream",
     "text": [
      "[121, 120, 121, 120, 120, 120, 120, 120]\n"
     ]
    }
   ],
   "source": [
    "print([len(x) for x in diagram])"
   ]
  },
  {
   "cell_type": "code",
   "execution_count": null,
   "metadata": {},
   "outputs": [],
   "source": [
    "times, values = map(list, zip(*data[0]))\n",
    "times = list(map(lambda x: datetime.datetime.strptime(x, TIME_FORMAT), times))\n",
    "ticks_time = [start_date + datetime.timedelta(days=x) for x in range(7)]\n",
    "labels_time = list(map(lambda x: datetime.datetime.strftime(x, '%Y-%m-%d'), ticks_time))\n",
    "values = list(map(float, values))\n",
    "\n",
    "plt.plot(times, values, linestyle='dashed', marker='x', linewidth=0.5, label='Analog Input #33')\n",
    "plt.xticks(ticks_time, labels_time, rotation='vertical')\n",
    "plt.yticks([300, 360000])\n",
    "plt.xlabel('Time')\n",
    "plt.ylabel('Value')\n",
    "plt.show()"
   ]
  },
  {
   "cell_type": "code",
   "execution_count": 25,
   "metadata": {},
   "outputs": [
    {
     "data": {
      "image/png": "[encoded data removed]",
      "text/plain": [
       "<Figure size 1000x300 with 1 Axes>"
      ]
     },
     "metadata": {},
     "output_type": "display_data"
    }
   ],
   "source": [
    "new_cmap = ListedColormap([\n",
    "    [0.9, 0.9, 0.9, 1.0],  # false/off (white)\n",
    "    [0.0, 0.0, 0.0, 1.0],  # invalid (red)\n",
    "    [0.0, 0.0, 1.0, 1.0],  #   unused\n",
    "    [0.5, 0.5, 0.5, 1.0],  # missing (gray)\n",
    "    [0.0, 0.0, 0.0, 1.0],   # true/on (black) \n",
    "    [0.0, 0.0, 0.0, 1.0],   # true/on (black) \n",
    "    [0.0, 0.0, 0.0, 1.0],   # true/on (black) \n",
    "    [1.0, 1.0, 1.0, 1.0],   # true/on (black) \n",
    "])\n",
    "\n",
    "from matplotlib.lines import Line2D\n",
    "custom_lines = [Line2D([0], [0], color=new_cmap(0.), lw=4),\n",
    "                Line2D([0], [0], color=new_cmap(.5), lw=4)]\n",
    "\n",
    "#\"\"\"\n",
    "plt.figure(figsize=(10, 3))\n",
    "plt.pcolormesh(range(len(diagram[0]) + 1), range(len(labels) + 1), diagram, cmap=new_cmap)\n",
    "#labels_time, ticks_time = zip(*sorted(time_ticks))\n",
    "plt.xticks(ticks_time, labels_time, rotation='vertical')\n",
    "plt.yticks([x + 0.5 for x in range(len(labels))], labels)\n",
    "plt.legend(custom_lines, ['winter', 'summer'], bbox_to_anchor=(1.15, 1.05))\n",
    "plt.show()\n",
    "#\"\"\""
   ]
  },
  {
   "cell_type": "code",
   "execution_count": null,
   "metadata": {},
   "outputs": [],
   "source": [
    "for i, feat in enumerate(features_by_type['bool']):\n",
    "    if i == 6:\n",
    "        print(feat)\n",
    "        break"
   ]
  },
  {
   "cell_type": "code",
   "execution_count": null,
   "metadata": {},
   "outputs": [],
   "source": [
    "conn = sqlite3.connect('diff_v2.sqlite3')\n",
    "cur = conn.cursor()\n",
    "\n",
    "int_diagram = []\n",
    "labels = []\n",
    "time_ticks = set()\n",
    "\n",
    "for key in features_by_type['number']:\n",
    "    res = series.fetch_series(key, cur)\n",
    "    \n",
    "    if len(res) > 10:\n",
    "        continue\n",
    "    \n",
    "    times = []\n",
    "    values = []\n",
    "    time_labels = []\n",
    "    \n",
    "    for elem in res:\n",
    "        time = datetime.datetime.strptime(elem[0], TIME_FORMAT).replace(second=0, microsecond=0)\n",
    "        #times.append(time)\n",
    "        try:\n",
    "            value = float(elem[1])\n",
    "        except:\n",
    "            value = 0\n",
    "        values.append(value)\n",
    "        \n",
    "        start = start_date.replace(second=0, microsecond=0)\n",
    "        tick = int((time - start).total_seconds() / 7200)\n",
    "        times.append(tick)\n",
    "        time_labels.append((datetime.datetime.strftime(time, \"%Y-%m-%d %Hh\"), tick))\n",
    "    time_ticks.update(time_labels)\n",
    "    \n",
    "    int_diagram.append((times, values))\n",
    "    labels.append(key)\n",
    "    \n",
    "    #print(time)\n",
    "    #print(key, end='\\n\\t')\n",
    "    #print(*res, sep='\\n\\t')\n",
    "\n",
    "conn.close()\n",
    "\n",
    "plt.figure(figsize=(20, 15))\n",
    "for i in range(len(int_diagram)):\n",
    "    plt.plot(int_diagram[i][0], int_diagram[i][1], marker='x', linestyle='dashed', label=labels[i])\n",
    "labels_time, ticks_time = zip(*sorted(time_ticks))\n",
    "plt.xticks(ticks_time, labels_time, rotation='vertical')\n",
    "#plt.yticks([x + 0.5 for x in range(len(labels))], labels)\n",
    "plt.legend()\n",
    "plt.show()"
   ]
  },
  {
   "cell_type": "code",
   "execution_count": null,
   "metadata": {},
   "outputs": [],
   "source": [
    "conn = sqlite3.connect('diff_v2.sqlite3')\n",
    "cur = conn.cursor()\n",
    "\n",
    "int_diagram = []\n",
    "labels = []\n",
    "time_ticks = set()\n",
    "\n",
    "for key in features_by_type['number_pres']:\n",
    "    res = series.fetch_series(key, cur)\n",
    "    \n",
    "    times = []\n",
    "    values = []\n",
    "    \n",
    "    for elem in res:\n",
    "        time = datetime.datetime.strptime(elem[0], TIME_FORMAT).replace(second=0, microsecond=0)\n",
    "        try:\n",
    "            value = float(elem[1])\n",
    "        except:\n",
    "            value = 0\n",
    "        values.append(value)\n",
    "        \n",
    "        start = start_date.replace(second=0, microsecond=0)\n",
    "        tick = int((time - start).total_seconds() / 7200)\n",
    "        times.append(tick)\n",
    "        time_labels.append((datetime.datetime.strftime(time, \"%Y-%m-%d %Hh\"), tick))\n",
    "    time_ticks.update(time_labels)\n",
    "    \n",
    "    if len(set(values)) > 10:\n",
    "        int_diagram.append((times, values))\n",
    "        labels.append(key)\n",
    "    \n",
    "    #print(time)\n",
    "    #print(key, end='\\n\\t')\n",
    "    #print(*res, sep='\\n\\t')\n",
    "\n",
    "conn.close()\n",
    "\n",
    "plt.figure(figsize=(20, 15))\n",
    "for i in range(len(int_diagram)):\n",
    "    plt.plot(int_diagram[i][0], int_diagram[i][1], marker='x', linestyle='dashed', label=labels[i])\n",
    "labels_time, ticks_time = zip(*sorted(time_ticks))\n",
    "plt.xticks(ticks_time, labels_time, rotation='vertical')\n",
    "#plt.yticks([x + 0.5 for x in range(len(labels))], labels)\n",
    "plt.legend()\n",
    "plt.show()"
   ]
  },
  {
   "cell_type": "code",
   "execution_count": null,
   "metadata": {},
   "outputs": [],
   "source": [
    "set(map(lambda x: x[-1], features_by_type['list']))"
   ]
  },
  {
   "cell_type": "code",
   "execution_count": null,
   "metadata": {},
   "outputs": [],
   "source": [
    "features_by_type.keys()"
   ]
  },
  {
   "cell_type": "code",
   "execution_count": null,
   "metadata": {},
   "outputs": [],
   "source": [
    "series.load_fast(file='series.pickle')"
   ]
  },
  {
   "cell_type": "code",
   "execution_count": null,
   "metadata": {},
   "outputs": [],
   "source": [
    "conn = sqlite3.connect('diff_v2.sqlite3')\n",
    "cur = conn.cursor()\n",
    "\n",
    "\"\"\"\n",
    "items = []\n",
    "names = ['analogInput', 'analogOutput', 'analogValue', 'binaryInput', 'binaryOutput', 'binaryValue']\n",
    "for obj in tqdm(names):\n",
    "    cur.execute(\"SELECT DISTINCT Device, ObjectType, ObjectId, Property FROM PropertyValues\\\n",
    "                 WHERE Property == 'presentValue' AND ObjectType == ?\", (obj,))\n",
    "    items.append(cur.fetchall())\n",
    "\"\"\"\n",
    "cur.execute(\"SELECT DISTINCT Device, ObjectType, ObjectId, Property FROM PropertyValues\\\n",
    "             WHERE Property == 'presentValue'\")\n",
    "items = cur.fetchall()\n",
    "\n",
    "conn.close()"
   ]
  },
  {
   "cell_type": "code",
   "execution_count": null,
   "metadata": {},
   "outputs": [],
   "source": [
    "conn = sqlite3.connect('diff_v2.sqlite3')\n",
    "cur = conn.cursor()\n",
    "\n",
    "counts = [[0] * 1342 for i in range(6)]\n",
    "for i in range(6):\n",
    "    #lens = []\n",
    "    for item in items[i]:\n",
    "        ser_len = len(series.fast_fetch_series(item, cur))\n",
    "        #lens.append(ser_len)\n",
    "        counts[i][ser_len] += 1\n",
    "\n",
    "conn.close()"
   ]
  },
  {
   "cell_type": "code",
   "execution_count": null,
   "metadata": {
    "scrolled": true
   },
   "outputs": [],
   "source": [
    "fig = plt.figure(figsize=(30, 20))\n",
    "axs = fig.subplots(3, 2)\n",
    "for i in range(6):\n",
    "    ax = axs[i % 3, i // 3]\n",
    "    ax.bar(range(len(counts[i])), counts[i])\n",
    "    ax.set_title(names[i])\n",
    "    ax.set_yscale('log')\n",
    "plt.yscale('log')\n",
    "plt.show()"
   ]
  },
  {
   "cell_type": "code",
   "execution_count": null,
   "metadata": {},
   "outputs": [],
   "source": [
    "TIME_FORMAT = \"%Y-%m-%d %H:%M:%S.%f\"\n",
    "TIME_FORMAT_SHORT = \"%Y-%m-%d %Hh\"\n",
    "start_date = datetime.datetime.strptime(\"2024-08-02 12:00:02.000213\", TIME_FORMAT)\n",
    "mid_date = datetime.datetime.strptime(\"2024-10-01 00:00:01.443302\", TIME_FORMAT)\n",
    "end_date = datetime.datetime.strptime(\"2024-11-01 00:00:02.276042\", TIME_FORMAT)\n",
    "DELAY = 3600\n",
    "date_range = [(start_date + datetime.timedelta(hours=x)).replace(second=0, microsecond=0)\n",
    "                  for x in range(0, int((mid_date - start_date).total_seconds() / 3600), 2)]\n",
    "date_range += [(mid_date + datetime.timedelta(hours=x)).replace(second=0, microsecond=0)\n",
    "                  for x in range(0, int((end_date - mid_date).total_seconds() / 3600), 1)]"
   ]
  },
  {
   "cell_type": "code",
   "execution_count": null,
   "metadata": {},
   "outputs": [],
   "source": [
    "counts = []\n",
    "ser_times = []\n",
    "\n",
    "shorts = []\n",
    "print('Starting', flush=True)\n",
    "for feat in tqdm(items):\n",
    "    ser = series.fast_fetch_series(feat, None)\n",
    "    times = []\n",
    "    last = None\n",
    "    ser_short = []\n",
    "    for time, value in ser:\n",
    "        if time == '2024-08-22 18:46:01.017058':\n",
    "             continue\n",
    "        if len(times) == 0 or last != value:\n",
    "            last = value\n",
    "            times.append(time)\n",
    "            ser_short.append((time, value))\n",
    "    if len(times) >= 2 and len(times) < 10:\n",
    "        shorts.append((feat, ser_short))\n",
    "        ser_times.append(map(lambda x: datetime.datetime.strptime(x, TIME_FORMAT).replace(second=0, microsecond=0), times))\n",
    "\n",
    "counts = dict()\n",
    "for elem in date_range:\n",
    "    counts[elem] = 0\n",
    "for ser in tqdm(ser_times):\n",
    "    for elem in ser:\n",
    "        counts[elem] += 1"
   ]
  },
  {
   "cell_type": "code",
   "execution_count": null,
   "metadata": {},
   "outputs": [],
   "source": [
    "#print(sorted(set(counts.values())))\n",
    "len(shorts)"
   ]
  },
  {
   "cell_type": "code",
   "execution_count": null,
   "metadata": {},
   "outputs": [],
   "source": [
    "conn = sqlite3.connect('diff_v2.sqlite3')\n",
    "cur = conn.cursor()\n",
    "\n",
    "cur.execute('DELETE FROM PresentValues WHERE 1=1')\n",
    "\n",
    "for key, items in tqdm(shorts):\n",
    "    for item in items:\n",
    "        cur.execute('INSERT INTO PresentValues (Device, ObjectType, ObjectId, Timestamp, Value) VALUES (?, ?, ?, ?, ?)',\n",
    "                   key[:-1] + item)\n",
    "    conn.commit()\n",
    "\n",
    "conn.close()"
   ]
  },
  {
   "cell_type": "code",
   "execution_count": null,
   "metadata": {},
   "outputs": [],
   "source": [
    "plt.bar(range(len(date_range)), counts.values())\n",
    "#plt.xticks(range(len(date_range)), date_range)\n",
    "plt.yscale('log')\n",
    "plt.show()"
   ]
  },
  {
   "cell_type": "code",
   "execution_count": null,
   "metadata": {},
   "outputs": [],
   "source": [
    "ser_times"
   ]
  },
  {
   "cell_type": "code",
   "execution_count": null,
   "metadata": {},
   "outputs": [],
   "source": []
  },
  {
   "cell_type": "code",
   "execution_count": null,
   "metadata": {},
   "outputs": [],
   "source": []
  },
  {
   "cell_type": "code",
   "execution_count": null,
   "metadata": {},
   "outputs": [],
   "source": [
    "mappings['device']['activeCovSubscriptions']"
   ]
  },
  {
   "cell_type": "code",
   "execution_count": null,
   "metadata": {},
   "outputs": [],
   "source": [
    "def parse_date(name):\n",
    "    dt = name[4:17]\n",
    "    year = int(dt[:4])\n",
    "    month = int(dt[4:6])\n",
    "    day = int(dt[6:8])\n",
    "    hour = int(dt[9:11])\n",
    "    minute = int(dt[11:13])\n",
    "    return datetime.datetime(year, month, day, hour, minute, 0)"
   ]
  },
  {
   "cell_type": "code",
   "execution_count": null,
   "metadata": {},
   "outputs": [],
   "source": [
    "data = []\n",
    "\n",
    "files = list(scandir('../data'))\n",
    "\n",
    "for file in tqdm(files):\n",
    "    if file.name.startswith('data20240502'):\n",
    "        continue\n",
    "    try:\n",
    "        fin = open(file.path)\n",
    "        item = file_parser.parse_old(fin)\n",
    "        fin.close()\n",
    "    except:\n",
    "        fin.close()\n",
    "        fin = open(file.path)\n",
    "        item = file_parser.parse_new(fin)\n",
    "        fin.close()\n",
    "    data.append((parse_date(file.name), item))"
   ]
  },
  {
   "cell_type": "code",
   "execution_count": null,
   "metadata": {},
   "outputs": [],
   "source": [
    "target = '192.168.66.16'#'192.168.67.198'\n",
    "prop = 'presentValue'\n",
    "\n",
    "info = dict()\n",
    "values = dict()\n",
    "for date, point in data:\n",
    "    if target not in point:\n",
    "        continue\n",
    "    dev = point[target]\n",
    "    \n",
    "    for obj in dev:\n",
    "        for prp in dev[obj]:\n",
    "            val = dev[obj][prp]\n",
    "            if prp == 'description' and len(val) > 0:\n",
    "                info[obj] = val\n",
    "            elif prp == 'units':\n",
    "                info[obj] = 'measured in ' + val\n",
    "        if prop in dev[obj]:\n",
    "            if obj not in values:\n",
    "                values[obj] = []\n",
    "            values[obj].append((date, dev[obj][prop]))"
   ]
  },
  {
   "cell_type": "code",
   "execution_count": null,
   "metadata": {
    "scrolled": false
   },
   "outputs": [],
   "source": [
    "def transform_float(series):\n",
    "    return list(map(lambda x: x[0], series)), list(map(lambda x: float(x[1]), series))\n",
    "\n",
    "def transform(series):\n",
    "    return list(map(lambda x: x[0], series)), list(map(lambda x: x[1], series))\n",
    "\n",
    "picked = [\n",
    "    'binaryValue:260',\n",
    "    'binaryValue:263',\n",
    "    'binaryValue:264',\n",
    "    'binaryValue:265',\n",
    "    'binaryValue:266',\n",
    "    'binaryValue:267',\n",
    "    'binaryValue:268',\n",
    "    'binaryValue:269',\n",
    "    'binaryValue:270',\n",
    "    'binaryValue:271',\n",
    "    'binaryValue:272',\n",
    "    'binaryValue:273',\n",
    "    'binaryValue:274',\n",
    "    'binaryValue:300',\n",
    "    'binaryValue:308',\n",
    "    #'binaryValue:435',\n",
    "]\n",
    "values_prc = dict()\n",
    "values_onoff = dict()\n",
    "values_other = dict()\n",
    "values_enum = dict()\n",
    "values_unsigned = dict()\n",
    "values_picked = dict()\n",
    "for key in values:\n",
    "    rng = set(map(lambda x: x[1], values[key]))\n",
    "    if len(rng) <= 1:\n",
    "        continue\n",
    "    if key in picked:\n",
    "        values_picked[key] = values[key]\n",
    "    elif rng == set(['inactive', 'active']):\n",
    "        values_onoff[key] = values[key]\n",
    "    elif rng == set(['0.0', '100.0']):\n",
    "        values_prc[key] = values[key]\n",
    "    elif 'Enumerated(0)' in rng or 'Enumerated(1)' in rng:\n",
    "        values_enum[key] = values[key]\n",
    "    elif 'Unsigned(4)' in rng:\n",
    "        values_unsigned[key] = values[key]\n",
    "    else:\n",
    "        values_other[key] = values[key]"
   ]
  },
  {
   "cell_type": "code",
   "execution_count": null,
   "metadata": {},
   "outputs": [],
   "source": [
    "fig = plt.figure(figsize=(20, 10))\n",
    "skip = [6, 7]\n",
    "start = None #datetime.datetime(2024, 5, 9, 16, 0, 0)\n",
    "end = datetime.datetime(2024, 5, 9, 20, 0, 0)\n",
    "#skip = [2, 5, 6, 7, 12]\n",
    "#skip += [11, 13, 18, 19]\n",
    "for i, key in enumerate(values_other):\n",
    "    if i >= 20:\n",
    "        break\n",
    "    if i not in skip:\n",
    "        continue\n",
    "    try:\n",
    "        xs, ys = transform_float(values[key])\n",
    "        plt.plot(xs, ys, label=key)\n",
    "    except:\n",
    "        print(values[key])\n",
    "if start is not None:\n",
    "    fig.axes[0].set_xlim(start, end)\n",
    "fig.legend(loc='lower center')\n",
    "plt.show()"
   ]
  },
  {
   "cell_type": "code",
   "execution_count": null,
   "metadata": {},
   "outputs": [],
   "source": [
    "info"
   ]
  },
  {
   "cell_type": "code",
   "execution_count": null,
   "metadata": {},
   "outputs": [],
   "source": [
    "values.keys()"
   ]
  },
  {
   "cell_type": "code",
   "execution_count": null,
   "metadata": {},
   "outputs": [],
   "source": []
  },
  {
   "cell_type": "code",
   "execution_count": null,
   "metadata": {},
   "outputs": [],
   "source": []
  },
  {
   "cell_type": "code",
   "execution_count": null,
   "metadata": {},
   "outputs": [],
   "source": [
    "arr = [0.25, 0.25, 0.25, 0.25, 0.25, 0.25, 0.25, 0.25, 0.25, 0.25, 0.25, 0.25, 0.25, 0.25, 0.25, 0.25, 0.25, 0.25, 0.25, 0.25, 0.25, 0.25, 0.25, 0.25, 0.25, 0.25, 0.25, 0.25, 0.25, 0.25, 0.25, 0.25, 0.25, 0.25, 0.25, 0.25, 0.25, 0.25, 0.25, 0.25, 0.25, 0.25, 0.25, 0.25, 0.25, 0.25, 0.25, 0.25, 0.25, 0.25, 0.25, 0.25, 0.25, 0.25, 0.25, 0.25, 0.25, 0.25, 0.25, 0.25, 0.25, 0.25, 0.25, 0.25, 0.25, 0.25, 0.25, 0.25, 0.25, 0.25, 0.25, 0.25, 0.25, 0.25, 0.25, 0.25, 0.25, 0.25, 0.25, 0.25, 0.25, 0.25, 0.25, 0.25, 0.25, 0.25, 0.25, 0.25, 0.25, 0.25, 0.25, 0.25, 0.25, 0.25, 0.25, 0.25, 0.25, 0.25, 0.25, 0.25, 0.25, 0.25, 0.25, 0.25, 0.25, 0.25, 0.25, 0.25, 0.25, 0.25, 0.25, 0.25, 0.25, 0.25, 0.25, 0.25, 0.25, 0.25, 0.25, 0.25, 0.25, 0.25, 0.25, 0.25, 0.25, 0.25, 0.25, 0.25, 0.25, 0.25, 0.25, 0.25, 0.25, 0.25, 0.25, 0.25, 0.25, 0.25, 0.25, 0.25, 0.25, 0.25, 0.25, 0.25, 0.25, 0.25, 0.25, 0.25, 0.25, 0.25, 0.25, 0.25, 0.25, 0.25, 0.25, 0.25, 0.25, 0.25, 0.25, 0.25, 0.25, 0.25, 0.25, 0.25, 0.25, 0.25, 0.25, 0.25, 0.25, 0.25, 0.25, 0.25, 0.25, 0.25, 0.25, 0.25, 0.25, 0.25, 0.25, 0.25, 0.25, 0.25, 0.25, 0.25, 0.25, 0.25, 0.25, 0.25, 0.25, 0.25, 0.25, 0.25, 0.25, 0.25, 0.25, 0.25, 0.25, 0.25, 0.25, 0.25, 0.25, 0.25, 0.25, 0.25, 0.125, 0.25, 0.25, 0.25, 0.25, 0.25, 0.25, 0.25, 0.25, 0.25, 0.25, 0.25, 1.0, 1.0, 1.0, 1.0, 1.0, 1.0, 1.0, 1.0, 1.0, 1.0, 1.0, 1.0, 1.0, 1.0, 1.0, 1.0, 1.0, 1.0, 1.0, 1.0, 1.0, 1.0, 1.0, 1.0, 0.25, 0.25, 0.25, 0.25, 0.25, 0.25, 0.25, 0.25, 0.25, 0.25, 0.25, 0.25, 0.25, 0.25, 0.25, 0.25, 0.25, 0.25, 0.25, 0.25, 0.25, 0.25, 0.25, 0.25, 0.25, 0.25, 0.25, 0.25, 0.25, 0.25, 0.25, 0.25, 0.25, 0.25, 0.25, 0.25, 0.25, 0.25, 0.25, 0.25, 0.25, 0.25, 0.25, 0.25, 0.25, 0.25, 0.25, 0.25, 0.25, 0.25, 0.25, 0.25, 0.25, 0.25, 0.25, 0.25, 0.25, 0.25, 0.25, 0.25, 0.25, 0.25, 0.25, 0.25, 0.25, 0.25, 0.25, 0.25, 0.25, 0.25, 0.25, 0.25, 0.25, 0.25, 0.25, 0.25, 0.25, 0.25, 0.25, 0.25, 0.25, 0.25, 0.25, 0.25, 0.25, 0.25, 0.25, 0.25, 0.25, 0.25, 0.25, 0.25, 0.25, 0.25, 0.25, 0.25, 0.25, 0.25, 0.25, 0.25, 0.25, 0.25, 0.25, 0.25, 0.25, 0.25, 0.25, 0.25, 0.25, 0.25, 0.25, 0.25, 0.25, 0.25, 0.25, 0.25, 0.25, 0.25, 0.25, 0.25, 0.25, 0.25, 0.25, 0.25, 0.25, 0.25, 0.25, 0.25, 0.25, 0.25, 0.25, 0.25, 0.25, 0.25, 0.25, 0.25, 0.25, 0.25, 0.25, 0.25, 0.25, 0.25, 0.25, 0.25, 0.25, 0.25, 0.25, 0.25, 0.25, 0.25, 0.25, 0.25, 0.25, 0.25, 0.25, 0.25, 0.25, 0.25, 0.25, 0.25, 0.25, 0.25, 0.25, 0.25, 0.25, 0.25, 0.25, 0.25, 0.25, 0.25, 0.25, 0.25, 0.25, 0.25, 0.25, 0.25, 0.25, 0.25, 0.25, 0.25, 0.25, 0.25, 0.25, 0.25, 0.25, 0.25, 0.25, 0.25, 0.25, 0.25, 0.25, 0.25, 0.25, 0.25, 0.25, 0.25, 0.25, 0.25, 0.25, 0.25, 0.25, 0.25, 0.25, 0.25, 0.25, 0.25, 0.25, 0.25, 0.25, 0.25, 0.25, 0.25, 0.25, 0.25, 0.25, 0.25, 0.25, 0.25, 0.25, 0.25, 0.25, 0.25, 0.25, 0.25, 0.25, 0.25, 0.25, 0.25, 0.25, 0.25, 0.25, 0.25, 0.25, 0.25, 0.25, 0.25, 0.25, 0.25, 0.25, 0.25, 0.25, 0.25, 0.25, 0.25, 0.25, 0.25, 0.25, 0.25, 0.25, 0.25, 0.25, 0.25, 0.25, 0.25, 0.25, 0.25, 0.25, 0.25, 0.25, 0.25, 0.25, 0.25, 0.25, 0.25, 1.0, 1.0, 1.0, 1.0, 1.0, 1.0, 1.0, 1.0, 1.0, 1.0, 1.0, 1.0, 1.0, 1.0, 1.0, 1.0, 1.0, 1.0, 1.0, 1.0, 1.0, 1.0, 1.0, 1.0, 1.0, 1.0, 1.0, 1.0, 1.0, 1.0, 1.0, 1.0, 1.0, 1.0, 1.0, 1.0, 1.0, 1.0, 1.0, 1.0, 1.0, 1.0, 1.0, 1.0, 1.0, 1.0, 1.0, 1.0, 1.0, 1.0, 1.0, 1.0, 1.0, 1.0, 1.0, 1.0, 1.0, 1.0, 1.0, 1.0, 1.0, 1.0, 1.0, 1.0, 1.0, 1.0, 1.0, 1.0, 1.0, 1.0, 1.0, 1.0, 0.25, 0.25, 0.25, 0.25, 0.25, 0.25, 0.25, 0.25, 0.25, 0.25, 0.25, 0.25, 0.25, 0.25, 0.25, 0.25, 0.25, 0.25, 0.25, 0.25, 0.25, 0.25, 0.25, 0.25, 0.25, 0.25, 0.25, 0.25, 0.25, 0.25, 0.25, 0.25, 0.25, 0.25, 0.25, 0.25, 0.25, 0.25, 0.25, 0.25, 0.25, 0.25, 0.25, 0.25, 0.25, 0.25, 0.25, 0.25, 0.25, 0.25, 0.25, 0.25, 0.25, 0.25, 0.25, 0.25, 0.25, 0.25, 0.25, 0.25, 0.25, 0.25, 0.25, 0.25, 0.25, 0.25, 0.25, 0.25, 0.25, 0.25, 0.25, 0.25, 0.25, 0.25, 0.25, 0.25, 0.25, 0.25, 0.25, 0.25, 0.25, 0.25, 0.25, 0.25, 0.25, 0.25, 0.25, 0.25, 0.25, 0.25, 0.25, 0.25, 0.25, 0.25, 0.25, 0.25, 0.25, 0.25, 0.25, 0.25, 0.25, 0.25, 0.25, 0.25, 0.25, 0.25, 0.25, 0.25, 0.25, 0.25, 0.25, 0.25, 0.25, 0.25, 0.25, 0.25, 0.25, 0.25, 0.25, 0.25, 0.25, 0.25, 0.25, 0.25, 0.25, 0.25, 0.25, 0.25, 0.25, 0.25, 0.25, 0.25, 0.25, 0.25, 0.25, 0.25, 0.25, 0.25, 0.25, 0.25, 0.25, 0.25, 0.25, 0.25]\n",
    "arr2 = [0.125, 0.125, 0.125, 0.125, 0.125, 0.125, 0.125, 0.125, 0.125, 0.125, 0.125, 0.125, 0.125, 0.125, 0.125, 0.125, 0.125, 0.125, 0.125, 0.125, 0.125, 0.125, 0.125, 0.125, 0.125, 0.125, 0.125, 0.125, 0.125, 0.125, 0.125, 0.125, 0.125, 0.125, 0.125, 0.125, 0.125, 0.125, 0.125, 0.125, 0.125, 0.125, 0.125, 0.125, 0.125, 0.125, 0.125, 0.125, 0.125, 0.125, 0.125, 0.125, 0.125, 0.125, 0.125, 0.125, 0.125, 0.125, 0.125, 0.125, 0.125, 0.125, 0.125, 0.125, 0.125, 0.125, 0.125, 0.125, 0.125, 0.125, 0.125, 0.125, 0.125, 0.125, 0.125, 0.125, 0.125, 0.125, 0.125, 0.125, 0.125, 0.125, 0.125, 0.125, 0.125, 0.125, 0.125, 0.125, 0.125, 0.125, 0.125, 0.125, 0.125, 0.125, 0.125, 0.125, 0.125, 0.125, 0.125, 0.125, 0.125, 0.125, 0.125, 0.125, 0.125, 0.125, 0.125, 0.125, 0.125, 0.125, 0.125, 0.125, 0.125, 0.125, 0.125, 0.125, 0.125, 0.125, 0.125, 0.125, 0.125, 0.125, 0.125, 0.125, 0.125, 0.125, 0.125, 0.125, 0.125, 0.125, 0.125, 0.125, 0.125, 0.125, 0.125, 0.125, 0.125, 0.125, 0.125, 0.125, 0.125, 0.125, 0.125, 0.125, 0.125, 0.125, 0.125, 0.125, 0.125, 0.125, 0.125, 0.125, 0.125, 0.125, 0.125, 0.125, 0.125, 0.125, 0.125, 0.125, 0.125, 0.125, 0.125, 0.125, 0.125, 0.125, 0.125, 0.125, 0.125, 0.125, 0.125, 0.125, 0.125, 0.125, 0.125, 0.125, 0.125, 0.125, 0.125, 0.125, 0.125, 0.125, 0.125, 0.125, 0.125, 0.125, 0.125, 0.125, 0.125, 0.125, 0.125, 0.125, 0.125, 0.125, 0.125, 0.125, 0.125, 0.125, 0.125, 0.125, 0.125, 0.125, 0.125, 0.125, 0.25, 0.125, 0.125, 0.125, 0.125, 0.125, 0.125, 0.125, 0.125, 0.125, 0.125, 0.125, 0.125, 0.125, 0.125, 0.125, 0.125, 0.125, 0.125, 0.125, 0.125, 0.125, 0.125, 0.125, 0.125, 0.125, 0.125, 0.125, 0.125, 0.125, 0.125, 0.125, 0.125, 0.125, 0.125, 0.125, 0.125, 0.125, 0.125, 0.125, 0.125, 0.125, 0.125, 0.125, 0.125, 0.125, 0.125, 0.125, 0.125, 0.125, 0.125, 0.125, 0.125, 0.125, 0.125, 0.125, 0.125, 0.125, 0.125, 0.125, 0.125, 0.125, 0.125, 0.125, 0.125, 0.125, 0.125, 0.125, 0.125, 0.125, 0.125, 0.125, 0.125, 0.125, 0.125, 0.125, 0.125, 0.125, 0.125, 0.125, 0.125, 0.125, 0.125, 0.125, 0.125, 0.125, 0.125, 0.125, 0.125, 0.125, 0.125, 0.125, 0.125, 0.125, 0.125, 0.125, 0.125, 0.125, 0.125, 0.125, 0.125, 0.125, 0.125, 0.125, 0.125, 0.125, 0.125, 0.125, 0.125, 0.125, 0.125, 0.125, 0.125, 0.125, 0.125, 0.125, 0.125, 0.125, 0.125, 0.125, 0.125, 0.125, 0.125, 0.125, 0.125, 0.125, 0.125, 0.125, 0.125, 0.125, 0.125, 0.125, 0.125, 0.125, 0.125, 0.125, 0.125, 0.125, 0.125, 0.125, 0.125, 0.125, 0.125, 0.125, 0.125, 0.125, 0.125, 0.125, 0.125, 0.125, 0.125, 0.125, 0.125, 0.125, 0.125, 0.125, 0.125, 0.125, 0.125, 0.125, 0.125, 0.125, 0.125, 0.125, 0.125, 0.125, 0.125, 0.125, 0.125, 0.125, 0.125, 0.125, 0.125, 0.125, 0.125, 0.125, 0.125, 0.125, 0.125, 0.125, 0.125, 0.125, 0.125, 0.125, 0.125, 0.125, 0.125, 0.125, 0.125, 0.125, 0.125, 0.125, 0.125, 0.125, 0.125, 0.125, 0.125, 0.125, 0.125, 0.125, 0.125, 0.125, 0.125, 0.125, 0.125, 0.125, 0.125, 0.125, 0.125, 0.125, 0.125, 0.125, 0.125, 0.125, 0.125, 0.125, 0.125, 0.125, 0.125, 0.125, 0.125, 0.125, 0.125, 0.125, 0.125, 0.125, 0.125, 0.125, 0.125, 0.125, 0.125, 0.125, 0.125, 0.125, 0.125, 0.125, 0.125, 0.125, 0.125, 0.125, 0.125, 0.125, 0.125, 0.125, 0.125, 0.125, 0.125, 0.125, 0.125, 0.125, 0.125, 0.125, 0.125, 0.125, 0.125, 0.125, 0.125, 0.125, 0.125, 0.125, 0.125, 0.125, 0.125, 0.125, 0.125, 0.125, 0.125, 0.125, 0.125, 0.125, 0.125, 0.125, 0.125, 0.125, 0.125, 0.125, 0.125, 0.125, 0.125, 0.125, 0.125, 0.125, 0.125, 0.125, 0.125, 0.125, 0.125, 0.125, 0.125, 0.125, 0.125, 0.125, 0.125, 0.125, 0.125, 0.125, 0.125, 0.125, 0.125, 0.125, 0.125, 0.125, 0.125, 0.125, 0.125, 0.125, 0.125, 0.125, 0.125, 0.125, 0.125, 0.125, 0.125, 0.125, 0.125, 0.125, 0.125, 0.125, 0.125, 0.125, 0.125, 0.125, 0.125, 0.125, 0.125, 0.125, 0.125, 0.125, 0.125, 0.125, 0.125, 0.125, 0.125, 0.125, 0.125, 0.125, 0.125, 0.125, 0.125, 0.125, 0.125, 0.125, 0.125, 0.125, 0.125, 0.125, 0.125, 0.125, 0.125, 0.125, 0.125, 0.125, 0.125, 0.125, 0.125, 0.125, 0.125, 0.125, 0.125, 0.125, 0.125, 0.125, 0.125, 0.125, 0.125, 0.125, 0.125, 0.125, 0.125, 0.125, 0.125, 0.125, 0.125, 0.125, 0.125, 0.125, 0.125, 0.125, 0.125, 0.125, 0.125, 0.125, 0.125, 0.125, 0.125, 0.125, 0.125, 0.125, 0.125, 0.125, 0.125, 0.125, 0.125, 0.125, 0.125, 0.125, 0.125, 0.125, 0.125, 0.125, 0.125, 0.125, 0.125, 0.125, 0.125, 0.125, 0.125, 0.125, 0.125, 0.125, 0.125, 0.125, 0.125, 0.125, 0.125, 0.125, 0.125, 0.125, 0.125, 0.125, 0.125, 0.125, 0.125, 0.125, 0.125, 0.125, 0.125, 0.125, 0.125, 0.125, 0.125, 0.125, 0.125, 0.125, 0.125, 0.125, 0.125, 0.125, 0.125, 0.125, 0.125, 0.125, 0.125, 0.125, 0.125, 0.125, 0.125, 0.125, 0.125, 0.125, 0.125, 0.125, 0.125, 0.125, 0.125, 0.125, 0.125, 0.125, 0.125, 0.125, 0.125, 0.125, 0.125, 0.125, 0.125, 0.125, 0.125, 0.125, 0.125, 0.125, 0.125, 0.125, 0.125, 0.125, 0.125, 0.125, 0.125, 0.125, 0.125, 0.125, 0.125, 0.125, 0.125, 0.125, 0.125, 0.125, 0.125, 0.125, 0.125, 0.125, 0.125, 0.125, 0.125, 0.125, 0.125, 0.125, 0.125, 0.125, 0.125, 0.125, 0.125, 0.125, 0.125, 0.125, 0.125, 0.125, 0.125, 0.125, 0.125, 0.125, 0.125, 0.125, 0.125, 0.125, 0.125, 0.125]"
   ]
  },
  {
   "cell_type": "code",
   "execution_count": null,
   "metadata": {},
   "outputs": [],
   "source": [
    "arr[204:]"
   ]
  },
  {
   "cell_type": "code",
   "execution_count": null,
   "metadata": {},
   "outputs": [],
   "source": [
    "diagram = [arr]#[[0, 0.125, 0.25, 0.25]]"
   ]
  },
  {
   "cell_type": "code",
   "execution_count": null,
   "metadata": {},
   "outputs": [],
   "source": [
    "new_cmap = ListedColormap([\n",
    "    [0.5, 0.5, 0.5, 1.0],   # Gray\n",
    "    [0.0, 0.0, 0.0, 1.0],   # Black\n",
    "    [0.0, 0.0, 1.0, 1.0],   # Blue\n",
    "    [0.0, 1.0, 0.0, 1.0],   # Green\n",
    "    [0.0, 1.0, 1.0, 1.0],   # Cyan\n",
    "    [1.0, 0.0, 0.0, 1.0],   # Red\n",
    "    [1.0, 0.0, 1.0, 1.0],   # Magenta\n",
    "    [1.0, 1.0, 0.0, 1.0],   # Yellow\n",
    "])\n",
    "\n",
    "plt.pcolormesh(range(len(arr) + 1), range(2), diagram, cmap=new_cmap)\n",
    "plt.show()"
   ]
  },
  {
   "cell_type": "code",
   "execution_count": null,
   "metadata": {},
   "outputs": [],
   "source": []
  }
 ],
 "metadata": {
  "kernelspec": {
   "display_name": "Python 3 (ipykernel)",
   "language": "python",
   "name": "python3"
  },
  "language_info": {
   "codemirror_mode": {
    "name": "ipython",
    "version": 3
   },
   "file_extension": ".py",
   "mimetype": "text/x-python",
   "name": "python",
   "nbconvert_exporter": "python",
   "pygments_lexer": "ipython3",
   "version": "3.9.4"
  }
 },
 "nbformat": 4,
 "nbformat_minor": 4
}
