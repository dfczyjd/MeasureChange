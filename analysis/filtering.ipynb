{
 "cells": [
  {
   "cell_type": "code",
   "execution_count": 1,
   "id": "6a2d0db9",
   "metadata": {},
   "outputs": [],
   "source": [
    "import sqlite3\n",
    "from tqdm import tqdm\n",
    "from datetime import datetime\n",
    "import yaml\n",
    "import os\n",
    "\n",
    "import util"
   ]
  },
  {
   "cell_type": "code",
   "execution_count": 2,
   "id": "0a0ed92b",
   "metadata": {},
   "outputs": [],
   "source": [
    "mappings = dict()\n",
    "for file in os.scandir('../mappings'):\n",
    "    if not file.name.endswith('.yaml'):\n",
    "        continue\n",
    "    with open(file, 'r') as fin:\n",
    "        obj = yaml.safe_load(fin)\n",
    "        mappings.update(util.update_names(obj))\n",
    "mappings_extra = dict()\n",
    "for file in os.scandir('../mappings/other'):\n",
    "    with open(file, 'r') as fin:\n",
    "        obj = yaml.safe_load(fin)\n",
    "        mappings_extra.update(obj)\n",
    "util.set_mappings(mappings, mappings_extra)"
   ]
  },
  {
   "cell_type": "code",
   "execution_count": 4,
   "id": "f801ef41",
   "metadata": {},
   "outputs": [
    {
     "name": "stderr",
     "output_type": "stream",
     "text": [
      " 45%|██████████████████████████████▍                                     | 9855243/22004103 [02:51<03:31, 57513.53it/s]\n"
     ]
    }
   ],
   "source": [
    "conn = sqlite3.connect('diff_v2.sqlite3', isolation_level='EXCLUSIVE')\n",
    "cur = conn.cursor()\n",
    "\n",
    "TOTAL = 22004103\n",
    "TIME_FORMAT = \"%Y-%m-%d %H:%M:%S.%f\"\n",
    "\n",
    "cur.execute(\"SELECT Timestamp, Value, Device, ObjectType, ObjectId, Property FROM FullValues WHERE Property NOT IN ('presentValue', 'priorityArray')\")\n",
    "full_data = dict()\n",
    "with tqdm(total=TOTAL) as pbar:\n",
    "    while True:\n",
    "        elem = cur.fetchone()\n",
    "        if elem is None:\n",
    "            break\n",
    "        pbar.update(1)\n",
    "        time, value, key = elem[0], elem[1], elem[2:]\n",
    "        time = datetime.strptime(time, TIME_FORMAT)\n",
    "        if key not in full_data:\n",
    "            full_data[key] = []\n",
    "        full_data[key].append((time, value))\n",
    "conn.close()"
   ]
  },
  {
   "cell_type": "code",
   "execution_count": 5,
   "id": "bb39750c",
   "metadata": {},
   "outputs": [],
   "source": [
    "for key in full_data:\n",
    "    full_data[key].sort()"
   ]
  },
  {
   "cell_type": "code",
   "execution_count": 17,
   "id": "178f7f5b",
   "metadata": {},
   "outputs": [],
   "source": [
    "def count_quick_reverts(key, data):\n",
    "    global mappings\n",
    "    QUICK_REV_THRES = 11\n",
    "    QUICK_REV_TIME = 7200\n",
    "    \n",
    "    _, obj, _, prop = key    \n",
    "    feat_type = 'atomic'\n",
    "    if prop in mappings[obj]:\n",
    "        full_type = mappings[obj][prop]['Type']\n",
    "        if type(full_type) == dict:\n",
    "            if full_type['Name'] == 'list':\n",
    "                feat_type = 'list'\n",
    "            elif full_type['Name'] == 'array':\n",
    "                feat_type = 'array'\n",
    "                array_size = full_type['Length']\n",
    "            elif full_type['Name'] == 'object':\n",
    "                feat_type = 'object'\n",
    "    else:\n",
    "        return 0\n",
    "    quick_count = 0\n",
    "    for i in range(len(feat_data) - 1):\n",
    "        time_1, val_1 = feat_data[i]\n",
    "        time_2, val_2 = feat_data[i + 1]\n",
    "        if val_1 != val_2 and (time_2 - time_1).total_seconds() <= QUICK_REV_TIME:\n",
    "            if feat_type == 'list':\n",
    "                quick_count += 1\n",
    "            elif feat_type == 'array':\n",
    "                try:\n",
    "                    val_1 = util.parse_array(val_1, array_size)\n",
    "                except:\n",
    "                    val_1 = ['Fail'] * array_size\n",
    "                try:\n",
    "                    val_2 = util.parse_array(val_2, array_size)\n",
    "                except:\n",
    "                    val_2 = ['Fail'] * array_size\n",
    "                for ind in range(array_size):\n",
    "                    try:\n",
    "                        if val_1[ind] != val_2[ind]:\n",
    "                            quick_count += 1\n",
    "                    except Exception as e:\n",
    "                        print(key)\n",
    "                        print(val_1)\n",
    "                        print(val_2)\n",
    "                        print(array_size)\n",
    "                        raise e\n",
    "            else:\n",
    "                quick_count += 1\n",
    "    if quick_count < QUICK_REV_THRES:\n",
    "        return 0\n",
    "    count = 0\n",
    "    last_time = None\n",
    "    last_val = None\n",
    "    for i in range(len(feat_data) - 1):\n",
    "        time_1 = feat_data[i][0]\n",
    "        time_2 = feat_data[i + 1][0]\n",
    "        if (time_2 - time_1).total_seconds() <= QUICK_REV_TIME:\n",
    "            count += 1\n",
    "            continue\n",
    "        if last_val == feat_data[i][1]:\n",
    "            count += 1\n",
    "        else:\n",
    "            last_val = feat_data[i][1]\n",
    "    return count"
   ]
  },
  {
   "cell_type": "code",
   "execution_count": 18,
   "id": "b25f52cb",
   "metadata": {},
   "outputs": [],
   "source": [
    "def count_meaningless(key, data):\n",
    "    _, obj, _, prop = key\n",
    "    if False and prop in ['presentValue', 'priorityArray']:\n",
    "        return len(data)\n",
    "    if prop == 'reliability':\n",
    "        prev = None\n",
    "        cnt_good = 0\n",
    "        for i in range(len(data) - 1):\n",
    "            elem = data[i][1]\n",
    "            if elem in ['noFaultDetected', 'communicationFailure']:\n",
    "                elem = 'normal'\n",
    "            if elem != prev:\n",
    "                prev = elem\n",
    "                cnt_good += 1\n",
    "        return len(data) - cnt_good\n",
    "    if prop == 'statusFlags':\n",
    "        prev = None\n",
    "        cnt_good = 0\n",
    "        for i in range(len(data) - 1):\n",
    "            elem = util.parse_array(data[i][1], 4)[2:]\n",
    "            if elem != prev:\n",
    "                prev = elem\n",
    "                cnt_good += 1\n",
    "        return len(data) - cnt_good\n",
    "    return 0\n",
    "                "
   ]
  },
  {
   "cell_type": "code",
   "execution_count": 19,
   "id": "39900708",
   "metadata": {},
   "outputs": [],
   "source": [
    "def number_check(val):\n",
    "    try:\n",
    "        float(val)\n",
    "        return True\n",
    "    except:\n",
    "        return False\n",
    "\n",
    "def count_illegal(key, data):\n",
    "    global mappings\n",
    "    \n",
    "    _, obj, _, prop = key\n",
    "    if prop in mappings[obj]:\n",
    "        typ = mappings[obj][prop]['Type']\n",
    "        if type(typ) == dict:\n",
    "            typ = typ['Name']\n",
    "    else:\n",
    "        return 0\n",
    "    \n",
    "    if typ in ['list', 'array']:\n",
    "        pred = lambda x: type(x) == list\n",
    "    elif typ == 'object':\n",
    "        pred = lambda x: len(x.split('\\n')) > 1\n",
    "    elif typ == 'number':\n",
    "        pred = number_check\n",
    "    elif typ == 'bool':\n",
    "        if len(set(map(lambda x: x[1], data))) <= 2:\n",
    "            return 0\n",
    "        return len(data)\n",
    "    elif typ in ['invalid', 'other', 'object ref']:\n",
    "        return 0\n",
    "    else:\n",
    "        print('Unknown type:', typ)\n",
    "        return 0\n",
    "    cnt = 0\n",
    "    for elem in data:\n",
    "        if elem[1] is None or pred(elem[1]):\n",
    "            continue\n",
    "        cnt += 1\n",
    "    return cnt"
   ]
  },
  {
   "cell_type": "code",
   "execution_count": 20,
   "id": "bf994c97",
   "metadata": {},
   "outputs": [
    {
     "name": "stderr",
     "output_type": "stream",
     "text": [
      "100%|████████████████████████████████████████████████████████████████████| 5042270/5042270 [00:05<00:00, 973586.17it/s]\n"
     ]
    }
   ],
   "source": [
    "removed_cnt = 0\n",
    "for key in tqdm(full_data):\n",
    "    feat_data = full_data[key]\n",
    "    removed_cnt += count_quick_reverts(key, feat_data)"
   ]
  },
  {
   "cell_type": "code",
   "execution_count": 21,
   "id": "2bd5a14d",
   "metadata": {},
   "outputs": [
    {
     "name": "stdout",
     "output_type": "stream",
     "text": [
      "7587\n"
     ]
    }
   ],
   "source": [
    "print(removed_cnt)"
   ]
  },
  {
   "cell_type": "code",
   "execution_count": null,
   "id": "01494bcd",
   "metadata": {},
   "outputs": [],
   "source": []
  }
 ],
 "metadata": {
  "kernelspec": {
   "display_name": "Python 3 (ipykernel)",
   "language": "python",
   "name": "python3"
  },
  "language_info": {
   "codemirror_mode": {
    "name": "ipython",
    "version": 3
   },
   "file_extension": ".py",
   "mimetype": "text/x-python",
   "name": "python",
   "nbconvert_exporter": "python",
   "pygments_lexer": "ipython3",
   "version": "3.9.4"
  }
 },
 "nbformat": 4,
 "nbformat_minor": 5
}
